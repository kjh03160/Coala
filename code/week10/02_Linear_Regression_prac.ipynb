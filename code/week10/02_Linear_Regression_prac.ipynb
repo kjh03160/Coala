{
 "cells": [
  {
   "cell_type": "markdown",
   "metadata": {},
   "source": [
    "# 이차함수 형태의 선형회귀식 찾기"
   ]
  },
  {
   "cell_type": "code",
   "execution_count": 2,
   "metadata": {},
   "outputs": [
    {
     "name": "stdout",
     "output_type": "stream",
     "text": [
      "0.0 0.0 3.0 23.25\n"
     ]
    }
   ],
   "source": [
    "import numpy as np\n",
    "data = [(1, 5), (1.5, 4), (2, 3),\n",
    "       (3, 1), (3, 2), (4, 1),\n",
    "       (5, 1.5), (6, 2), (6, 4),\n",
    "       (7, 4), (7, 5)]\n",
    "\n",
    "min_a = 0\n",
    "min_b = 0\n",
    "min_c = 0\n",
    "min_sum = 0xFFFFFFFF - 1\n",
    "for a in np.arange(0, 5, 0.1):\n",
    "    for b in np.arange(0, 5, 0.1):\n",
    "        for c in np.arange(0, 5, 0.1):\n",
    "            sums = 0 \n",
    "            for (x, y) in data:\n",
    "                predict = a * (x ** 2) + b * x + c\n",
    "                sums += (y - predict) ** 2\n",
    "            if sums < min_sum:\n",
    "                min_a = a\n",
    "                min_b = b\n",
    "                min_c = c\n",
    "                min_sum = sums\n",
    "\n",
    "print(min_a, min_b, min_c, min_sum)"
   ]
  }
 ],
 "metadata": {
  "kernelspec": {
   "display_name": "Python 3",
   "language": "python",
   "name": "python3"
  },
  "language_info": {
   "codemirror_mode": {
    "name": "ipython",
    "version": 3
   },
   "file_extension": ".py",
   "mimetype": "text/x-python",
   "name": "python",
   "nbconvert_exporter": "python",
   "pygments_lexer": "ipython3",
   "version": "3.7.5"
  }
 },
 "nbformat": 4,
 "nbformat_minor": 2
}
