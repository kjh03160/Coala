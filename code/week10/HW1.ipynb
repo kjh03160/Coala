{
 "cells": [
  {
   "cell_type": "markdown",
   "metadata": {},
   "source": [
    "## Test set으로 모델의 최종성능 평가하기\n"
   ]
  },
  {
   "cell_type": "code",
   "execution_count": 1,
   "metadata": {},
   "outputs": [
    {
     "name": "stdout",
     "output_type": "stream",
     "text": [
      "모든 데이터 (21613, 18)\n",
      "Train set (17290, 18) (17290,)\n",
      "Test set (4323, 18) (4323,)\n"
     ]
    }
   ],
   "source": [
    "import pandas as pd\n",
    "\n",
    "house_data = pd.read_csv(\"../../COALA_DS_DATA/COALA_DS_DATA/week5/data/house.csv\")\n",
    "house_data = house_data.drop(['id', 'date'], axis = 1)\n",
    "from sklearn.model_selection import train_test_split\n",
    "\n",
    "train_data = house_data.drop(['price'], axis = 1)\n",
    "target_data = house_data['price']\n",
    "\n",
    "# train : test set -> 8 : 2\n",
    "x_train, x_test, y_train, y_test = train_test_split(train_data, target_data, test_size = 0.2)\n",
    "\n",
    "# # 다시 train set을 8: 2로 나눠 val_data\n",
    "# x_train, x_valid, y_train, y_valid = train_test_split(x_train, y_train, test_size = 0.2)\n",
    "\n",
    "print(\"모든 데이터\", train_data.shape) # (행, 열)\n",
    "print(\"Train set\", x_train.shape, y_train.shape)\n",
    "# print(\"Valid set\", x_valid.shape, y_valid.shape)\n",
    "print(\"Test set\", x_test.shape,  y_test.shape)"
   ]
  },
  {
   "cell_type": "code",
   "execution_count": 2,
   "metadata": {},
   "outputs": [
    {
     "name": "stdout",
     "output_type": "stream",
     "text": [
      "train set score 0.6985060727493558\n",
      "test set score 0.7026833565721539\n"
     ]
    }
   ],
   "source": [
    "from sklearn.linear_model import LinearRegression\n",
    "\n",
    "lr = LinearRegression()\n",
    "lr.fit(x_train, y_train)\n",
    "\n",
    "print('train set score', lr.score(x_train, y_train))\n",
    "print('test set score', lr.score(x_test, y_test))"
   ]
  },
  {
   "cell_type": "code",
   "execution_count": 3,
   "metadata": {},
   "outputs": [
    {
     "name": "stdout",
     "output_type": "stream",
     "text": [
      "train set score 0.8281220033560497\n",
      "test set score 0.8255149404936695\n"
     ]
    }
   ],
   "source": [
    "from sklearn.preprocessing import PolynomialFeatures\n",
    "from sklearn.pipeline import make_pipeline\n",
    "\n",
    "model = make_pipeline(PolynomialFeatures(2), \n",
    "                     LinearRegression())\n",
    "model.fit(x_train, y_train)\n",
    "print('train set score', model.score(x_train, y_train))\n",
    "print('test set score', model.score(x_test, y_test))"
   ]
  },
  {
   "cell_type": "code",
   "execution_count": 4,
   "metadata": {},
   "outputs": [
    {
     "name": "stdout",
     "output_type": "stream",
     "text": [
      "train set score 0.8504986135757353\n",
      "test set score 0.40096465786958146\n"
     ]
    }
   ],
   "source": [
    "model3 = make_pipeline(PolynomialFeatures(3), \n",
    "                     LinearRegression())\n",
    "model3.fit(x_train, y_train)\n",
    "print('train set score', model3.score(x_train, y_train))\n",
    "print('test set score', model3.score(x_test, y_test))"
   ]
  },
  {
   "cell_type": "code",
   "execution_count": 5,
   "metadata": {},
   "outputs": [],
   "source": [
    "from sklearn.preprocessing import StandardScaler\n",
    "import numpy as np\n",
    "scaler = StandardScaler() # StandardScaler는 정규분포에 속성을 이용한 방식\n",
    "\n",
    "xs_train = scaler.fit_transform(x_train)\n",
    "xs_train = pd.DataFrame(xs_train, columns = x_train.columns)\n",
    "\n",
    "ys_train = scaler.fit_transform(y_train.values.reshape(-1, 1))\n",
    "ys_train = pd.DataFrame(ys_train, columns = ['price'])\n",
    "\n",
    "xs_test = scaler.fit_transform(x_test)\n",
    "xs_test = pd.DataFrame(xs_test, columns = x_test.columns)\n",
    "\n",
    "ys_test = scaler.fit_transform(y_test.values.reshape(-1, 1))\n",
    "ys_test = pd.DataFrame(ys_test, columns = ['price'])"
   ]
  },
  {
   "cell_type": "code",
   "execution_count": 6,
   "metadata": {
    "scrolled": true
   },
   "outputs": [
    {
     "name": "stdout",
     "output_type": "stream",
     "text": [
      "train set score 0.6985060727493559\n",
      "test set score 0.7040220512400168\n"
     ]
    }
   ],
   "source": [
    "lr = LinearRegression()\n",
    "lr.fit(xs_train, ys_train)\n",
    "\n",
    "print('train set score', lr.score(xs_train, ys_train))\n",
    "print('test set score', lr.score(xs_test, ys_test))"
   ]
  },
  {
   "cell_type": "code",
   "execution_count": 7,
   "metadata": {},
   "outputs": [
    {
     "name": "stdout",
     "output_type": "stream",
     "text": [
      "train set score 0.8284908991570836\n",
      "test set score -2.260427706261129e+16\n"
     ]
    }
   ],
   "source": [
    "from sklearn.preprocessing import PolynomialFeatures\n",
    "from sklearn.pipeline import make_pipeline\n",
    "\n",
    "model = make_pipeline(PolynomialFeatures(2),\n",
    "                    LinearRegression()).fit(xs_train, ys_train)\n",
    "print('train set score', model.score(xs_train, ys_train))\n",
    "print('test set score', model.score(xs_test, ys_test))"
   ]
  },
  {
   "cell_type": "code",
   "execution_count": 8,
   "metadata": {},
   "outputs": [
    {
     "name": "stdout",
     "output_type": "stream",
     "text": [
      "train set score 0.90313466991141\n",
      "test set score -3.905927880743014e+16\n"
     ]
    }
   ],
   "source": [
    "model2 = make_pipeline(PolynomialFeatures(3), \n",
    "                     LinearRegression())\n",
    "\n",
    "model2.fit(xs_train, ys_train)\n",
    "print('train set score', model2.score(xs_train, ys_train))\n",
    "print('test set score', model2.score(xs_test, ys_test))"
   ]
  },
  {
   "cell_type": "code",
   "execution_count": 9,
   "metadata": {
    "scrolled": true
   },
   "outputs": [
    {
     "name": "stdout",
     "output_type": "stream",
     "text": [
      "train set score 0.8284885032871957\n",
      "test set score 0.8225158009464967\n"
     ]
    }
   ],
   "source": [
    "from sklearn.linear_model import Ridge\n",
    "\n",
    "model3 = make_pipeline(PolynomialFeatures(2),\n",
    "                      Ridge(alpha=0.1)).fit(xs_train, ys_train)\n",
    "\n",
    "print('train set score', model3.score(xs_train, ys_train))\n",
    "print('test set score', model3.score(xs_test, ys_test))"
   ]
  },
  {
   "cell_type": "code",
   "execution_count": 10,
   "metadata": {
    "scrolled": true
   },
   "outputs": [
    {
     "name": "stdout",
     "output_type": "stream",
     "text": [
      "train set score 0.9030863199968348\n",
      "test set score 0.3386033762208901\n"
     ]
    }
   ],
   "source": [
    "from sklearn.linear_model import Ridge\n",
    "\n",
    "model4 = make_pipeline(PolynomialFeatures(3),\n",
    "                      Ridge(alpha=0.1)).fit(xs_train, ys_train)\n",
    "\n",
    "print('train set score', model4.score(xs_train, ys_train))\n",
    "print('test set score', model4.score(xs_test, ys_test))"
   ]
  },
  {
   "cell_type": "code",
   "execution_count": 12,
   "metadata": {},
   "outputs": [
    {
     "data": {
      "image/png": "[encoded data removed]",
      "text/plain": [
       "<Figure size 432x288 with 1 Axes>"
      ]
     },
     "metadata": {
      "needs_background": "light"
     },
     "output_type": "display_data"
    }
   ],
   "source": [
    "import matplotlib.pyplot as plt\n",
    "from sklearn.tree import DecisionTreeRegressor\n",
    "\n",
    "train_score = []\n",
    "test_score = []\n",
    "depth_range = range(1, 25)\n",
    "for dept in depth_range:\n",
    "    tree = DecisionTreeRegressor(max_depth = dept).fit(xs_train, ys_train)\n",
    "    \n",
    "    train_score.append(tree.score(xs_train, ys_train))\n",
    "    test_score.append(tree.score(xs_test, ys_test))\n",
    "    \n",
    "plt.plot(depth_range, train_score)\n",
    "plt.plot(depth_range, test_score)\n",
    "\n",
    "plt.legend(['Train', 'Test'])\n",
    "\n",
    "plt.xlabel('Max Depth')\n",
    "plt.ylabel('Score')\n",
    "\n",
    "plt.show()"
   ]
  }
 ],
 "metadata": {
  "kernelspec": {
   "display_name": "Python 3",
   "language": "python",
   "name": "python3"
  },
  "language_info": {
   "codemirror_mode": {
    "name": "ipython",
    "version": 3
   },
   "file_extension": ".py",
   "mimetype": "text/x-python",
   "name": "python",
   "nbconvert_exporter": "python",
   "pygments_lexer": "ipython3",
   "version": "3.7.5"
  }
 },
 "nbformat": 4,
 "nbformat_minor": 2
}
