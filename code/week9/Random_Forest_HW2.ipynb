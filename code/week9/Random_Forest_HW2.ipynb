{
 "cells": [
  {
   "cell_type": "code",
   "execution_count": null,
   "metadata": {},
   "outputs": [],
   "source": [
    "import pandas as pd\n",
    "\n",
    "df = pd.read_csv(\"../../COALA_DS_DATA/COALA_DS_DATA/week3/data/train.csv\")\n",
    "\n",
    "df"
   ]
  },
  {
   "cell_type": "code",
   "execution_count": null,
   "metadata": {},
   "outputs": [],
   "source": [
    "df['Fare'].value_counts()"
   ]
  },
  {
   "cell_type": "code",
   "execution_count": null,
   "metadata": {},
   "outputs": [],
   "source": [
    "df[['Pclass', 'Fare']]"
   ]
  },
  {
   "cell_type": "code",
   "execution_count": null,
   "metadata": {
    "scrolled": true
   },
   "outputs": [],
   "source": [
    "df['Fare'] = df['Fare'].fillna(df.groupby('Pclass')['Fare'].transform(\"mean\"))\n",
    "df.head()"
   ]
  },
  {
   "cell_type": "code",
   "execution_count": null,
   "metadata": {},
   "outputs": [],
   "source": [
    "df.loc[df['SibSp'] + df[\"Parch\"] == 0, 'isAlone'] = 1\n",
    "df.loc[df['SibSp'] + df[\"Parch\"] > 0, 'isAlone'] = 0\n",
    "\n",
    "df"
   ]
  },
  {
   "cell_type": "code",
   "execution_count": null,
   "metadata": {
    "scrolled": true
   },
   "outputs": [],
   "source": [
    "df.loc[df['Name'].str.contains(\"Mr\\.\"), 'Name'] = 'Mr'\n",
    "df.loc[df['Name'].str.contains(\"Mrs\\.\"), 'Name'] = 'Mrs'\n",
    "df.loc[df['Name'].str.contains(\"Miss\\.\"), 'Name'] = 'Miss'\n",
    "df[['Name', 'Age']]"
   ]
  },
  {
   "cell_type": "code",
   "execution_count": null,
   "metadata": {},
   "outputs": [],
   "source": [
    "df['Name'] = df['Name'].map({\n",
    "    'Mr': 0,\n",
    "    'Mrs': 1,\n",
    "    'Miss': 2\n",
    "})\n",
    "\n",
    "df['Name'] = df['Name'].fillna(3)\n",
    "\n",
    "df"
   ]
  },
  {
   "cell_type": "code",
   "execution_count": null,
   "metadata": {},
   "outputs": [],
   "source": [
    "df_test = pd.read_csv(\"../../COALA_DS_DATA/COALA_DS_DATA/week3/data/test.csv\")\n",
    "\n",
    "df_test"
   ]
  },
  {
   "cell_type": "code",
   "execution_count": null,
   "metadata": {},
   "outputs": [],
   "source": [
    "df_test['Fare'].isnull().sum()"
   ]
  },
  {
   "cell_type": "code",
   "execution_count": null,
   "metadata": {},
   "outputs": [],
   "source": [
    "df_test['Fare'] = df_test['Fare'].fillna(df_test.groupby('Pclass')['Fare'].transform(\"mean\"))\n",
    "df_test.head()"
   ]
  },
  {
   "cell_type": "code",
   "execution_count": null,
   "metadata": {},
   "outputs": [],
   "source": [
    "df_test.loc[df_test['SibSp'] + df_test[\"Parch\"] == 0, 'isAlone'] = 1\n",
    "df_test.loc[df_test['SibSp'] + df_test[\"Parch\"] > 0, 'isAlone'] = 0\n",
    "\n",
    "df_test"
   ]
  },
  {
   "cell_type": "code",
   "execution_count": null,
   "metadata": {},
   "outputs": [],
   "source": [
    "df['Embarked'] = df['Embarked'].fillna('S')\n",
    "df_test['Embarked'] = df_test['Embarked'].fillna('S')\n",
    "\n",
    "df.loc[df['Embarked'] == 'S', 'Embarked'] = 0\n",
    "df.loc[df['Embarked'] == 'C', 'Embarked'] = 1\n",
    "df.loc[df['Embarked'] == 'Q', 'Embarked'] = 2\n",
    "\n",
    "df_test.loc[df_test['Embarked'] == 'S', 'Embarked'] = 0\n",
    "df_test.loc[df_test['Embarked'] == 'C', 'Embarked'] = 1\n",
    "df_test.loc[df_test['Embarked'] == 'Q', 'Embarked'] = 2\n",
    "\n",
    "\n",
    "df.head()"
   ]
  },
  {
   "cell_type": "code",
   "execution_count": null,
   "metadata": {},
   "outputs": [],
   "source": [
    "df.loc[df['Sex'] == 'male', 'Sex'] = 0\n",
    "df.loc[df['Sex'] == 'female', 'Sex'] = 1\n",
    "\n",
    "df_test.loc[df_test['Sex'] == 'male', 'Sex'] = 0\n",
    "df_test.loc[df_test['Sex'] == 'female', 'Sex'] = 1\n",
    "\n",
    "df.head()"
   ]
  },
  {
   "cell_type": "code",
   "execution_count": null,
   "metadata": {},
   "outputs": [],
   "source": [
    "df['FamilySize'] = df['SibSp'] + df['Parch']\n",
    "df_test['FamilySize'] = df_test['SibSp'] + df_test['Parch']"
   ]
  },
  {
   "cell_type": "code",
   "execution_count": null,
   "metadata": {},
   "outputs": [],
   "source": [
    "df_test.isnull().sum()"
   ]
  },
  {
   "cell_type": "code",
   "execution_count": null,
   "metadata": {},
   "outputs": [],
   "source": [
    "df_test['Name'] = df_test['Name'].map({\n",
    "    'Mr': 0,\n",
    "    'Mrs': 1,\n",
    "    'Miss': 2\n",
    "})\n",
    "\n",
    "df_test['Name'] = df_test['Name'].fillna(3)"
   ]
  },
  {
   "cell_type": "code",
   "execution_count": null,
   "metadata": {},
   "outputs": [],
   "source": [
    "df_test['Age'] = df_test['Age'].fillna(df_test.groupby('Name')['Age'].transform('mean'))\n",
    "df['Age'] = df['Age'].fillna(df.groupby('Name')['Age'].transform('mean'))"
   ]
  },
  {
   "cell_type": "code",
   "execution_count": null,
   "metadata": {},
   "outputs": [],
   "source": [
    "x_train = df[['Name', 'Sex', 'Age', 'Fare', 'FamilySize', 'Embarked', 'isAlone']]\n",
    "y_train = df['Survived'] \n",
    "\n",
    "x_train"
   ]
  },
  {
   "cell_type": "code",
   "execution_count": null,
   "metadata": {
    "scrolled": true
   },
   "outputs": [],
   "source": [
    "from sklearn.tree import DecisionTreeClassifier\n",
    "\n",
    "tree = DecisionTreeClassifier()\n",
    "tree.fit(x_train, y_train)\n",
    "\n",
    "print('training set accuracy:', tree.score(x_train, y_train))"
   ]
  },
  {
   "cell_type": "code",
   "execution_count": null,
   "metadata": {},
   "outputs": [],
   "source": [
    "x_test = df_test[['Name', 'Sex', 'Age', 'Fare', 'FamilySize', 'Embarked', 'isAlone']]\n",
    "prediction = tree.predict(x_test) \n",
    "prediction"
   ]
  },
  {
   "cell_type": "code",
   "execution_count": null,
   "metadata": {},
   "outputs": [],
   "source": [
    "submit = pd.DataFrame({\n",
    "    'PassengerId': df_test['PassengerId'],\n",
    "    'Survived': prediction\n",
    "})\n",
    "\n",
    "submit.to_csv('submit.csv', index=False)"
   ]
  },
  {
   "cell_type": "code",
   "execution_count": null,
   "metadata": {},
   "outputs": [],
   "source": [
    "my_prediction = pd.read_csv('submit.csv')\n",
    "my_prediction.head()"
   ]
  },
  {
   "cell_type": "markdown",
   "metadata": {},
   "source": [
    "# Random Forest\n",
    "---\n",
    "Decision Tree는 일부 데이터에 대해 과적합(Overfitting) 현상으로 실제 데이터 예측 성공 확률이 낮아질 수 있음.\n",
    "\n",
    "그것을 보완하기 위해 Random Forest는 여러 Decision Tree의 결과를 종합, 평균을 계산(Ensemble)하여 예측하는 모델\n"
   ]
  },
  {
   "cell_type": "markdown",
   "metadata": {},
   "source": [
    "### Stage1"
   ]
  },
  {
   "cell_type": "code",
   "execution_count": null,
   "metadata": {},
   "outputs": [],
   "source": [
    "from sklearn.tree import DecisionTreeClassifier\n",
    "\n",
    "tree = DecisionTreeClassifier()\n",
    "tree.fit(x_train, y_train)\n",
    "\n",
    "print('training set accuracy : ', tree.score(x_train, y_train))"
   ]
  },
  {
   "cell_type": "code",
   "execution_count": null,
   "metadata": {},
   "outputs": [],
   "source": [
    "tree1 = DecisionTreeClassifier()\n",
    "tree1.fit(x_train, y_train)\n",
    "\n",
    "print('training set accuracy : ', tree1.score(x_train, y_train))"
   ]
  },
  {
   "cell_type": "code",
   "execution_count": null,
   "metadata": {},
   "outputs": [],
   "source": [
    "tree2 = DecisionTreeClassifier()\n",
    "tree2.fit(x_train, y_train)\n",
    "\n",
    "print('training set accuracy : ', tree2.score(x_train, y_train))"
   ]
  },
  {
   "cell_type": "code",
   "execution_count": null,
   "metadata": {},
   "outputs": [],
   "source": [
    "# 위의 3개의 트리는 모두 다른 트리다.\n",
    "# 문제나 데이터가 복잡해지면 정확도는 달라짐\n",
    "# 연결해보기 (Ensemble)\n",
    "\n",
    "# Validation_Set -> 훈련에서 제외시킬 테스트(학습된 모델의 중간 성능)용 데이터\n",
    "x_valid = x_train[:100]\n",
    "y_valid = y_train[:100]\n",
    "\n",
    "x_train = x_train[100:]\n",
    "y_train = y_train[100:]"
   ]
  },
  {
   "cell_type": "code",
   "execution_count": null,
   "metadata": {},
   "outputs": [],
   "source": [
    "tree = DecisionTreeClassifier()\n",
    "tree.fit(x_train, y_train)\n",
    "\n",
    "print('training set accuracy : ', tree.score(x_train, y_train))\n",
    "print('validation set accuracy : ', tree.score(x_valid, y_valid))\n",
    "\n",
    "tree1 = DecisionTreeClassifier()\n",
    "tree1.fit(x_train, y_train)\n",
    "\n",
    "print('training set accuracy : ', tree1.score(x_train, y_train))\n",
    "print('validation set accuracy : ', tree1.score(x_valid, y_valid))\n",
    "\n",
    "tree2 = DecisionTreeClassifier()\n",
    "tree2.fit(x_train, y_train)\n",
    "\n",
    "print('training set accuracy : ', tree2.score(x_train, y_train))\n",
    "print('validation set accuracy : ', tree2.score(x_valid, y_valid))\n",
    "\n",
    "# validation accuracy 는 매번 달라지는 것을 보면, 서로 다른 트리임을 알 수 있다.\n",
    "# val_accuracy 가 더 합리적인 성능 지표"
   ]
  },
  {
   "cell_type": "code",
   "execution_count": null,
   "metadata": {},
   "outputs": [],
   "source": [
    "# 여러개의 Decision Tree Ensemble 하기\n",
    "prediction1 = tree.predict(df_test[['Name', 'Sex', 'Age', 'Fare', 'FamilySize', 'Embarked', 'isAlone']])\n",
    "prediction2 = tree1.predict(df_test[['Name', 'Sex', 'Age', 'Fare', 'FamilySize', 'Embarked', 'isAlone']])\n",
    "prediction3 = tree2.predict(df_test[['Name', 'Sex', 'Age', 'Fare', 'FamilySize', 'Embarked', 'isAlone']])\n",
    "\n",
    "ensemble = (prediction1 + prediction2 + prediction3) / 3\n",
    "ensemble[ensemble > 0.5] = 1\n",
    "ensemble[ensemble <= 0.5] = 0\n",
    "\n",
    "# 평균 내는 작업으로 인해 survived 데이터가 정수에서 소수로 바뀜\n",
    "# 다시 정수로 변환\n",
    "ensemble = ensemble.astype(int)\n",
    "\n",
    "ensemble"
   ]
  },
  {
   "cell_type": "code",
   "execution_count": null,
   "metadata": {},
   "outputs": [],
   "source": [
    "submit = pd.DataFrame({\n",
    "    'PassengerId' : df_test['PassengerId'],\n",
    "    'Survived' : ensemble\n",
    "})\n",
    "\n",
    "submit.to_csv(\"submit_ensemble.csv\", index = False)"
   ]
  },
  {
   "cell_type": "markdown",
   "metadata": {},
   "source": [
    "## Ch2"
   ]
  },
  {
   "cell_type": "code",
   "execution_count": null,
   "metadata": {},
   "outputs": [],
   "source": [
    "from sklearn.ensemble import RandomForestClassifier\n",
    "\n",
    "rfc = RandomForestClassifier(n_estimators = 3000)\n",
    "rfc.fit(x_train, y_train)\n",
    "\n",
    "print('training set accuracy : ', rfc.score(x_train, y_train))"
   ]
  },
  {
   "cell_type": "code",
   "execution_count": null,
   "metadata": {},
   "outputs": [],
   "source": [
    "print('validation set accuracy : ', rfc.score(x_valid, y_valid))"
   ]
  },
  {
   "cell_type": "code",
   "execution_count": null,
   "metadata": {
    "scrolled": true
   },
   "outputs": [],
   "source": [
    "prediction2 = rfc.predict(x_test)\n",
    "print(prediction)\n",
    "\n",
    "submit = pd.DataFrame({\n",
    "    'PassengerId' : df_test[\"PassengerId\"],\n",
    "    'Survived' : prediction\n",
    "})\n",
    "\n",
    "submit.to_csv('submit_rfc.csv', index = False)"
   ]
  },
  {
   "cell_type": "markdown",
   "metadata": {},
   "source": [
    "## HW1"
   ]
  },
  {
   "cell_type": "code",
   "execution_count": null,
   "metadata": {},
   "outputs": [],
   "source": [
    "x_all = df[['Name', 'Sex', 'Age', 'Fare', 'FamilySize', 'Embarked', 'isAlone']]\n",
    "y_all = df['Survived']"
   ]
  },
  {
   "cell_type": "code",
   "execution_count": null,
   "metadata": {},
   "outputs": [],
   "source": [
    "from sklearn.ensemble import RandomForestClassifier\n",
    "\n",
    "rfc2 = RandomForestClassifier(n_estimators = 3000)\n",
    "rfc2.fit(x_all, y_all)\n",
    "\n",
    "print('training set accuracy : ', rfc2.score(x_all, y_all))"
   ]
  },
  {
   "cell_type": "code",
   "execution_count": null,
   "metadata": {
    "scrolled": false
   },
   "outputs": [],
   "source": [
    "prediction2 = rfc2.predict(x_test)\n",
    "print(prediction2)\n",
    "\n",
    "submit = pd.DataFrame({\n",
    "    'PassengerId' : df_test[\"PassengerId\"],\n",
    "    'Survived' : prediction\n",
    "})\n",
    "\n",
    "submit.to_csv('submit_rfc2.csv', index = False)"
   ]
  },
  {
   "cell_type": "code",
   "execution_count": null,
   "metadata": {},
   "outputs": [],
   "source": [
    "from sklearn.ensemble import RandomForestClassifier\n",
    "\n",
    "rfc3 = RandomForestClassifier(n_estimators = 100, max_depth = 25)\n",
    "rfc3.fit(x_all, y_all)\n",
    "\n",
    "print(\"training set accuracy :\", rfc3.score(x_all, y_all))"
   ]
  },
  {
   "cell_type": "code",
   "execution_count": null,
   "metadata": {},
   "outputs": [],
   "source": [
    "prediction3 = rfc3.predict(x_test)\n",
    "print(prediction3)\n",
    "\n",
    "submit = pd.DataFrame({\n",
    "    'PassengerId' : df_test[\"PassengerId\"],\n",
    "    'Survived' : prediction\n",
    "})\n",
    "\n",
    "submit.to_csv('submit_rfc3.csv', index = False)"
   ]
  }
 ],
 "metadata": {
  "kernelspec": {
   "display_name": "Python 3",
   "language": "python",
   "name": "python3"
  },
  "language_info": {
   "codemirror_mode": {
    "name": "ipython",
    "version": 3
   },
   "file_extension": ".py",
   "mimetype": "text/x-python",
   "name": "python",
   "nbconvert_exporter": "python",
   "pygments_lexer": "ipython3",
   "version": "3.7.5"
  }
 },
 "nbformat": 4,
 "nbformat_minor": 2
}
