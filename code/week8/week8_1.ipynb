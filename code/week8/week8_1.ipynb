{
 "cells": [
  {
   "cell_type": "markdown",
   "metadata": {},
   "source": [
    "# Decision Tree"
   ]
  },
  {
   "cell_type": "code",
   "execution_count": 1,
   "metadata": {},
   "outputs": [],
   "source": [
    "data = {\n",
    "    'name' : ['고양이', '펭귄', '닭', '타조', '참새'],\n",
    "    'wing' : [False, True, True, True, True],\n",
    "    'weight' : [\"light\", 'heavy', 'light', 'heavy', 'light'] ,\n",
    "    'density' : ['low', 'high', 'high', 'high', 'low'],\n",
    "    'fly' : [False, False, False, False, True]\n",
    "}"
   ]
  },
  {
   "cell_type": "code",
   "execution_count": 2,
   "metadata": {},
   "outputs": [
    {
     "name": "stdout",
     "output_type": "stream",
     "text": [
      "True light low True\n"
     ]
    }
   ],
   "source": [
    "bird_no = 4\n",
    "print(data['wing'][bird_no],\n",
    "     data['weight'][bird_no],\n",
    "     data['density'][bird_no],\n",
    "     data['fly'][bird_no])"
   ]
  },
  {
   "cell_type": "code",
   "execution_count": 3,
   "metadata": {},
   "outputs": [
    {
     "name": "stdout",
     "output_type": "stream",
     "text": [
      "참새 : 날 수 있는지 확인\n",
      "날 수 있다\n"
     ]
    }
   ],
   "source": [
    "target_index = 4\n",
    "print(data['name'][target_index], \": 날 수 있는지 확인\")\n",
    "\n",
    "# 날개 / 몸무게 / 골밀도\n",
    "\n",
    "# 날개 유무\n",
    "if data['wing'][target_index]:\n",
    "    if data['weight'][target_index] == 'heavy':\n",
    "        print(\"날 수 없다\")\n",
    "    else:\n",
    "        if data['density'][target_index] == 'high':\n",
    "            print('날 수 없다')\n",
    "        else:\n",
    "            print(\"날 수 있다\")\n",
    "else:\n",
    "    print(\"날 수 없다\")"
   ]
  }
 ],
 "metadata": {
  "kernelspec": {
   "display_name": "Python 3",
   "language": "python",
   "name": "python3"
  },
  "language_info": {
   "codemirror_mode": {
    "name": "ipython",
    "version": 3
   },
   "file_extension": ".py",
   "mimetype": "text/x-python",
   "name": "python",
   "nbconvert_exporter": "python",
   "pygments_lexer": "ipython3",
   "version": "3.7.5"
  }
 },
 "nbformat": 4,
 "nbformat_minor": 2
}
