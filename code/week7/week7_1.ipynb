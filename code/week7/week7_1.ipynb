{
 "cells": [
  {
   "cell_type": "code",
   "execution_count": 1,
   "metadata": {},
   "outputs": [
    {
     "name": "stdout",
     "output_type": "stream",
     "text": [
      "1단계: 전체 출력하기\n",
      "[{'name': '박지성', 'phone': '01040281234'}, {'name': '이청용', 'phone': '01012344321'}, {'name': '손흥민', 'phone': '01007070202'}]\n",
      "-----------------\n",
      "2단계: 이청용 정보만 출력하기\n",
      "{'name': '이청용', 'phone': '01012344321'}\n"
     ]
    }
   ],
   "source": [
    "phonebook = [{\n",
    "    'name': '박지성',\n",
    "    'phone': '01040281234'\n",
    "}, {\n",
    "    'name': '이청용',\n",
    "    'phone': '01012344321'\n",
    "}, {\n",
    "    'name': '손흥민',\n",
    "    'phone': '01007070202'\n",
    "}]\n",
    "\n",
    "# 1단계\n",
    "print('1단계: 전체 출력하기')\n",
    "print(phonebook)\n",
    "\n",
    "# 2단계\n",
    "print('-----------------')\n",
    "print('2단계: 이청용 정보만 출력하기')\n",
    "print(phonebook[1])"
   ]
  }
 ],
 "metadata": {
  "kernelspec": {
   "display_name": "Python 3",
   "language": "python",
   "name": "python3"
  },
  "language_info": {
   "codemirror_mode": {
    "name": "ipython",
    "version": 3
   },
   "file_extension": ".py",
   "mimetype": "text/x-python",
   "name": "python",
   "nbconvert_exporter": "python",
   "pygments_lexer": "ipython3",
   "version": "3.7.5"
  }
 },
 "nbformat": 4,
 "nbformat_minor": 2
}
